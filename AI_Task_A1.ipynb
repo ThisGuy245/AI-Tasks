{
  "nbformat": 4,
  "nbformat_minor": 0,
  "metadata": {
    "colab": {
      "provenance": [],
      "authorship_tag": "ABX9TyM1ErvEg74cEoYpUWiiITl9",
      "include_colab_link": true
    },
    "kernelspec": {
      "name": "python3",
      "display_name": "Python 3"
    },
    "language_info": {
      "name": "python"
    }
  },
  "cells": [
    {
      "cell_type": "markdown",
      "metadata": {
        "id": "view-in-github",
        "colab_type": "text"
      },
      "source": [
        "<a href=\"https://colab.research.google.com/github/ThisGuy245/AI-Tasks/blob/main/AI_Task_A1.ipynb\" target=\"_parent\"><img src=\"https://colab.research.google.com/assets/colab-badge.svg\" alt=\"Open In Colab\"/></a>"
      ]
    },
    {
      "cell_type": "markdown",
      "source": [
        "# AI Assignment, Task A1\n"
      ],
      "metadata": {
        "id": "WO6HGNNIVJ_K"
      }
    },
    {
      "cell_type": "markdown",
      "source": [
        "# NPC's Power |\tEnemy's Power\t| Decision/Action\n",
        "\n",
        "---\n",
        "\n",
        "Strong (1)\t|  Strong (1)\t|  Attack (0)    >>   I should predict 0\n",
        "\n",
        "---\n",
        "\n",
        "Weak (0)\t|  Strong (1)\t |  Flee (1)    >>   I should predict 1\n",
        "\n",
        "---\n",
        "\n",
        "Strong (1)\t|  Weak (0)\t|  Flee (1)    >>    I should predict 1\n",
        "\n",
        "---\n",
        "\n",
        "Weak (0)\t|  Weak (0)\t|  Attack (0)    >>    I should predict 0\n",
        "\n",
        "---\n",
        "\n"
      ],
      "metadata": {
        "id": "oE7WyM_tVad8"
      }
    },
    {
      "cell_type": "code",
      "source": [
        "import torch\n",
        "import torch.nn as nn\n",
        "import torch.optim as optim\n",
        "import numpy as np\n",
        "import matplotlib.pyplot as plt  # Import Matplotlib\n",
        "\n",
        "# Input data: NPC power vs. Enemy power\n",
        "x = np.array([[1, 1], [0, 1], [1, 0], [0, 0]], dtype=np.float32)\n",
        "\n",
        "# Target data: Decision/Action (0 = attack, 1 = flee)\n",
        "y = np.array([[0], [1], [1], [0]], dtype=np.float32)\n",
        "\n",
        "# Convert NumPy arrays to PyTorch tensors\n",
        "x_tensor = torch.tensor(x, dtype=torch.float32)\n",
        "y_tensor = torch.tensor(y, dtype=torch.float32)\n",
        "\n",
        "# Neural Network Model\n",
        "class NeuralNetwork(nn.Module):\n",
        "    def __init__(self, activation=nn.ReLU):  # Default to ReLU\n",
        "        super(NeuralNetwork, self).__init__()\n",
        "        self.hidden = nn.Linear(2, 3)  # Input layer to hidden layer\n",
        "        self.output = nn.Linear(3, 1)  # Hidden layer to output layer\n",
        "        self.activation = activation()  # Activation function (modular)\n",
        "        self.sigmoid = nn.Sigmoid()  # Sigmoid for binary classification\n",
        "\n",
        "    def forward(self, x):\n",
        "        x = self.activation(self.hidden(x))  # Apply selected activation function\n",
        "        x = self.sigmoid(self.output(x))  # Apply Sigmoid to output layer\n",
        "        return x\n",
        "\n",
        "# Function to get user input for activation and learning rates\n",
        "def get_user_input():\n",
        "    # Get activation function from user\n",
        "    print(\"Available activation functions: ReLU, Sigmoid, Tanh\")\n",
        "    activation_choice = input(\"Choose activation function (ReLU/Sigmoid/Tanh): \").strip().lower()\n",
        "\n",
        "    # Map the input to corresponding activation function\n",
        "    activation_map = {\n",
        "        'relu': nn.ReLU,\n",
        "        'sigmoid': nn.Sigmoid,\n",
        "        'tanh': nn.Tanh\n",
        "    }\n",
        "\n",
        "    if activation_choice in activation_map:\n",
        "        activation = activation_map[activation_choice]\n",
        "    else:\n",
        "        print(\"Invalid choice, defaulting to ReLU.\")\n",
        "        activation = nn.ReLU\n",
        "\n",
        "    # Get learning rates from user\n",
        "    learning_rates_input = input(\"Enter learning rates separated by commas (e.g., 0.1, 0.01, 0.001): \")\n",
        "    learning_rates = [float(lr) for lr in learning_rates_input.split(',')]\n",
        "\n",
        "    return activation, learning_rates\n",
        "\n",
        "# Get user inputs for activation function and learning rates\n",
        "activation_function, learning_rates = get_user_input()\n",
        "\n",
        "# Prepare to plot\n",
        "plt.figure(figsize=(12, 8))  # Create a larger plot\n",
        "plot_idx = 1  # Track subplot index\n",
        "\n",
        "# Initialize subplot for this activation function\n",
        "plt.subplot(2, 2, plot_idx)  # Create a subplot (2 rows, 2 columns)\n",
        "\n",
        "# Loop through the specified learning rates\n",
        "for lr in learning_rates:\n",
        "    print(f\"\\nTesting Learning Rate: {lr}\")\n",
        "\n",
        "    # Initialize the model\n",
        "    model = NeuralNetwork(activation=activation_function)\n",
        "    optimizer = optim.SGD(model.parameters(), lr=lr)\n",
        "    criterion = nn.BCELoss()  # Binary Cross-Entropy Loss\n",
        "\n",
        "    # Tracking losses\n",
        "    losses = []\n",
        "\n",
        "    # Training loop\n",
        "    epochs = 5000\n",
        "    for epoch in range(epochs):\n",
        "        outputs = model(x_tensor)\n",
        "        loss = criterion(outputs, y_tensor)\n",
        "\n",
        "        optimizer.zero_grad()\n",
        "        loss.backward()\n",
        "        optimizer.step()\n",
        "\n",
        "        # Save loss for plotting\n",
        "        losses.append(loss.item())\n",
        "\n",
        "    # Plot the loss curve for this learning rate\n",
        "    plt.plot(losses, label=f\"LR: {lr}\")\n",
        "\n",
        "    # Validate the model after training\n",
        "    with torch.no_grad():\n",
        "        predictions = model(x_tensor)\n",
        "        predictions = torch.round(predictions)\n",
        "        print(\"    Predictions:\", predictions.numpy())\n",
        "        print(\"    Actual:     \", y_tensor.numpy())\n",
        "\n",
        "# Configure subplot\n",
        "plt.title(f\"Loss Curve ({activation_function.__name__})\")\n",
        "plt.xlabel(\"Epochs\")\n",
        "plt.ylabel(\"Loss\")\n",
        "plt.legend()\n",
        "\n",
        "# Adjust layout and show the plot\n",
        "plt.tight_layout()\n",
        "plt.show()\n"
      ],
      "metadata": {
        "colab": {
          "base_uri": "https://localhost:8080/",
          "height": 106
        },
        "id": "kNhzAfPYVJkb",
        "outputId": "cfa81aaa-da20-4af0-97bf-7f6f54c86178"
      },
      "execution_count": 5,
      "outputs": [
        {
          "output_type": "error",
          "ename": "IndentationError",
          "evalue": "expected an indented block after function definition on line 41 (<ipython-input-5-6610d2bb6164>, line 44)",
          "traceback": [
            "\u001b[0;36m  File \u001b[0;32m\"<ipython-input-5-6610d2bb6164>\"\u001b[0;36m, line \u001b[0;32m44\u001b[0m\n\u001b[0;31m    for activation in activations:\u001b[0m\n\u001b[0m    ^\u001b[0m\n\u001b[0;31mIndentationError\u001b[0m\u001b[0;31m:\u001b[0m expected an indented block after function definition on line 41\n"
          ]
        }
      ]
    },
    {
      "cell_type": "code",
      "source": [],
      "metadata": {
        "id": "jm70D6HeFBqO"
      },
      "execution_count": null,
      "outputs": []
    }
  ]
}