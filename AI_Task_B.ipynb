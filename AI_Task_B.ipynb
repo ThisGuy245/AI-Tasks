{
  "nbformat": 4,
  "nbformat_minor": 0,
  "metadata": {
    "colab": {
      "provenance": [],
      "authorship_tag": "ABX9TyNGLqX1cGVU3SPez2YwO68p",
      "include_colab_link": true
    },
    "kernelspec": {
      "name": "python3",
      "display_name": "Python 3"
    },
    "language_info": {
      "name": "python"
    }
  },
  "cells": [
    {
      "cell_type": "markdown",
      "metadata": {
        "id": "view-in-github",
        "colab_type": "text"
      },
      "source": [
        "<a href=\"https://colab.research.google.com/github/ThisGuy245/AI-Tasks/blob/main/AI_Task_B.ipynb\" target=\"_parent\"><img src=\"https://colab.research.google.com/assets/colab-badge.svg\" alt=\"Open In Colab\"/></a>"
      ]
    },
    {
      "cell_type": "code",
      "execution_count": null,
      "metadata": {
        "id": "zgTiscI2-sWS"
      },
      "outputs": [],
      "source": [
        "!pip install transformers torch\n",
        "\n",
        "import torch\n",
        "from transformers import AutoTokenizer, AutoModelForCausalLM\n",
        "import time\n",
        "\n",
        "# Load the model and tokenizer\n",
        "model_name = \"distilgpt2\"\n",
        "tokenizer = AutoTokenizer.from_pretrained(model_name)\n",
        "model = AutoModelForCausalLM.from_pretrained(model_name)\n",
        "\n",
        "def generate_response(prompt, max_new_tokens=100, temperature=0.7, top_k=50):\n",
        "    inputs = tokenizer(prompt, return_tensors=\"pt\", truncation=True, max_length=512)\n",
        "    start_time = time.time()\n",
        "    outputs = model.generate(\n",
        "        **inputs,\n",
        "        max_new_tokens=max_new_tokens,\n",
        "        temperature=temperature,\n",
        "        top_k=top_k,\n",
        "        no_repeat_ngram_size=2,\n",
        "        do_sample=True,\n",
        "        pad_token_id=tokenizer.eos_token_id\n",
        "    )\n",
        "    end_time = time.time()\n",
        "    response_time = end_time - start_time\n",
        "    response = tokenizer.decode(outputs[0], skip_special_tokens=True)\n",
        "    ai_response = response.split(\"AI:\")[-1].strip()\n",
        "    return ai_response, response_time\n",
        "\n",
        "\n",
        "def calculate_perplexity(model, tokenizer, text):\n",
        "    inputs = tokenizer(text, return_tensors=\"pt\", truncation=True, max_length=512)\n",
        "    with torch.no_grad():\n",
        "        outputs = model(**inputs, labels=inputs[\"input_ids\"])\n",
        "    loss = outputs.loss\n",
        "    return torch.exp(loss)\n",
        "\n",
        "# Main conversation loop\n",
        "context = \"You are an AI assistant specialized in discussing AI advancements. Provide informative and coherent responses about AI progress, its impact on society, and potential future developments.\"\n",
        "max_context_length = 1000\n",
        "conversation_history = \"\"\n",
        "\n",
        "print(\"Welcome to the AI Chat! Let's discuss AI advancements.\")\n",
        "print(\"You can start chatting. Type 'exit' to end the conversation.\")\n",
        "\n",
        "while True:\n",
        "    user_input = input(\"User: \")\n",
        "    if user_input.lower() == 'exit':\n",
        "        break\n",
        "\n",
        "    prompt = f\"{context}\\n{conversation_history}\\nUser: {user_input}\\nAI:\"\n",
        "    ai_response, response_time = generate_response(prompt, max_new_tokens=100, temperature=0.8, top_k=40)\n",
        "\n",
        "    print(f\"AI: {ai_response}\")\n",
        "    print(f\"Response time: {response_time:.2f} seconds\")\n",
        "\n",
        "    conversation_history += f\"\\nUser: {user_input}\\nAI: {ai_response}\"\n",
        "    if len(conversation_history) > max_context_length:\n",
        "        conversation_history = conversation_history[-max_context_length:]\n",
        "\n",
        "    perplexity = calculate_perplexity(model, tokenizer, f\"User: {user_input}\\nAI: {ai_response}\")\n",
        "    print(f\"Perplexity of last exchange: {perplexity.item():.2f}\")\n",
        "\n",
        "\n",
        "print(\"Thank you for chatting! Here's a summary of our conversation:\")\n",
        "print(conversation_history)\n",
        "\n",
        "# Final evaluation\n",
        "final_perplexity = calculate_perplexity(model, tokenizer, conversation_history)\n",
        "print(f\"\\nOverall conversation perplexity: {final_perplexity.item():.2f}\")\n"
      ]
    }
  ]
}