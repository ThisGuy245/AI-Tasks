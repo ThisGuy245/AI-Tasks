{
  "nbformat": 4,
  "nbformat_minor": 0,
  "metadata": {
    "colab": {
      "provenance": [],
      "authorship_tag": "ABX9TyNbj0tHYNjdEZRJEqi9+2Vn",
      "include_colab_link": true
    },
    "kernelspec": {
      "name": "python3",
      "display_name": "Python 3"
    },
    "language_info": {
      "name": "python"
    }
  },
  "cells": [
    {
      "cell_type": "markdown",
      "metadata": {
        "id": "view-in-github",
        "colab_type": "text"
      },
      "source": [
        "<a href=\"https://colab.research.google.com/github/ThisGuy245/AI-Tasks/blob/main/AI_Task_B.ipynb\" target=\"_parent\"><img src=\"https://colab.research.google.com/assets/colab-badge.svg\" alt=\"Open In Colab\"/></a>"
      ]
    },
    {
      "cell_type": "code",
      "execution_count": null,
      "metadata": {
        "id": "zgTiscI2-sWS",
        "colab": {
          "base_uri": "https://localhost:8080/"
        },
        "outputId": "96e6d6af-b1dc-43ed-db08-1574f6b5e411"
      },
      "outputs": [
        {
          "output_type": "stream",
          "name": "stdout",
          "text": [
            "Requirement already satisfied: transformers in /usr/local/lib/python3.10/dist-packages (4.47.1)\n",
            "Requirement already satisfied: filelock in /usr/local/lib/python3.10/dist-packages (from transformers) (3.16.1)\n",
            "Requirement already satisfied: huggingface-hub<1.0,>=0.24.0 in /usr/local/lib/python3.10/dist-packages (from transformers) (0.27.0)\n",
            "Requirement already satisfied: numpy>=1.17 in /usr/local/lib/python3.10/dist-packages (from transformers) (1.26.4)\n",
            "Requirement already satisfied: packaging>=20.0 in /usr/local/lib/python3.10/dist-packages (from transformers) (24.2)\n",
            "Requirement already satisfied: pyyaml>=5.1 in /usr/local/lib/python3.10/dist-packages (from transformers) (6.0.2)\n",
            "Requirement already satisfied: regex!=2019.12.17 in /usr/local/lib/python3.10/dist-packages (from transformers) (2024.11.6)\n",
            "Requirement already satisfied: requests in /usr/local/lib/python3.10/dist-packages (from transformers) (2.32.3)\n",
            "Requirement already satisfied: tokenizers<0.22,>=0.21 in /usr/local/lib/python3.10/dist-packages (from transformers) (0.21.0)\n",
            "Requirement already satisfied: safetensors>=0.4.1 in /usr/local/lib/python3.10/dist-packages (from transformers) (0.4.5)\n",
            "Requirement already satisfied: tqdm>=4.27 in /usr/local/lib/python3.10/dist-packages (from transformers) (4.67.1)\n",
            "Requirement already satisfied: fsspec>=2023.5.0 in /usr/local/lib/python3.10/dist-packages (from huggingface-hub<1.0,>=0.24.0->transformers) (2024.10.0)\n",
            "Requirement already satisfied: typing-extensions>=3.7.4.3 in /usr/local/lib/python3.10/dist-packages (from huggingface-hub<1.0,>=0.24.0->transformers) (4.12.2)\n",
            "Requirement already satisfied: charset-normalizer<4,>=2 in /usr/local/lib/python3.10/dist-packages (from requests->transformers) (3.4.0)\n",
            "Requirement already satisfied: idna<4,>=2.5 in /usr/local/lib/python3.10/dist-packages (from requests->transformers) (3.10)\n",
            "Requirement already satisfied: urllib3<3,>=1.21.1 in /usr/local/lib/python3.10/dist-packages (from requests->transformers) (2.2.3)\n",
            "Requirement already satisfied: certifi>=2017.4.17 in /usr/local/lib/python3.10/dist-packages (from requests->transformers) (2024.12.14)\n"
          ]
        },
        {
          "output_type": "stream",
          "name": "stderr",
          "text": [
            "Device set to use cpu\n",
            "Truncation was not explicitly activated but `max_length` is provided a specific value, please use `truncation=True` to explicitly truncate examples to max length. Defaulting to 'longest_first' truncation strategy. If you encode pairs of sequences (GLUE-style) with the tokenizer you can select this strategy more precisely by providing a specific strategy to `truncation`.\n",
            "Setting `pad_token_id` to `eos_token_id`:50256 for open-end generation.\n"
          ]
        },
        {
          "output_type": "stream",
          "name": "stdout",
          "text": [
            "Hello, I’m a language model but what I do in that role is to make everything\n",
            "Hello, I’m a language model.” You’ll know the real name\n",
            "Hello, I’m a language model’s­self, and I’m\n",
            "Hello, I’m a language model, and I really wanted to make a nice API,\n",
            "Hello, I’m a language model. I’think in any language. I�\n"
          ]
        }
      ],
      "source": [
        "!pip install transformers torch\n",
        "\n",
        "import torch\n",
        "from transformers import AutoTokenizer, AutoModelForCausalLM\n",
        "import time\n",
        "\n",
        "# Load the model and tokenizer\n",
        "model_name = \"distilgpt2\"\n",
        "tokenizer = AutoTokenizer.from_pretrained(model_name)\n",
        "model = AutoModelForCausalLM.from_pretrained(model_name)\n",
        "\n",
        "def generate_response(prompt, max_new_tokens=50, temperature=0.7, top_k=50):\n",
        "    inputs = tokenizer(prompt, return_tensors=\"pt\", truncation=True, max_length=512)\n",
        "    start_time = time.time()\n",
        "    outputs = model.generate(\n",
        "        **inputs,\n",
        "        max_new_tokens=max_new_tokens,\n",
        "        temperature=temperature,\n",
        "        top_k=top_k,\n",
        "        no_repeat_ngram_size=2,\n",
        "        do_sample=True,\n",
        "        pad_token_id=tokenizer.eos_token_id\n",
        "    )\n",
        "    end_time = time.time()\n",
        "    response_time = end_time - start_time\n",
        "    return tokenizer.decode(outputs[0], skip_special_tokens=True), response_time\n",
        "\n",
        "def calculate_perplexity(model, tokenizer, text):\n",
        "    inputs = tokenizer(text, return_tensors=\"pt\", truncation=True, max_length=512)\n",
        "    with torch.no_grad():\n",
        "        outputs = model(**inputs, labels=inputs[\"input_ids\"])\n",
        "    loss = outputs.loss\n",
        "    return torch.exp(loss)\n",
        "\n",
        "# Main conversation loop\n",
        "context = \"You are Joe a regular human being. Try respond like a generic joe!\"\n",
        "max_context_length = 1000\n",
        "conversation_history = \"\"\n",
        "\n",
        "print(\"Welcome to your Joe Chat!\")\n",
        "print(\"You can start chatting with Joe. Type 'exit' to end the conversation.\")\n",
        "\n",
        "while True:\n",
        "    user_input = input(\"User: \")\n",
        "    if user_input.lower() == 'exit':\n",
        "        break\n",
        "\n",
        "    prompt = f\"{context}\\n{conversation_history}\\nPlayer: {user_input}\\nJoe:\"\n",
        "    response, response_time = generate_response(prompt, max_new_tokens=100, temperature=0.8, top_k=40)\n",
        "    ai_response = response.split(\"Wizard:\")[-1].strip()\n",
        "\n",
        "    print(f\"Joe: {ai_response}\")\n",
        "    print(f\"Response time: {response_time:.2f} seconds\")\n",
        "\n",
        "    conversation_history += f\"\\nUser: {user_input}\\nJoe: {ai_response}\"\n",
        "    if len(conversation_history) > max_context_length:\n",
        "        conversation_history = conversation_history[-max_context_length:]\n",
        "\n",
        "    # Calculate perplexity for the last exchange\n",
        "    last_exchange = f\"User: {user_input}\\nJoe: {ai_response}\"\n",
        "    perplexity = calculate_perplexity(model, tokenizer, last_exchange)\n",
        "    print(f\"Perplexity of last exchange: {perplexity.item():.2f}\")\n",
        "\n",
        "print(\"Thank you for chatting! Here's a summary of our conversation:\")\n",
        "print(conversation_history)\n",
        "\n",
        "# Final evaluation\n",
        "final_perplexity = calculate_perplexity(model, tokenizer, conversation_history)\n",
        "print(f\"\\nOverall conversation perplexity: {final_perplexity.item():.2f}\")\n"
      ]
    }
  ]
}