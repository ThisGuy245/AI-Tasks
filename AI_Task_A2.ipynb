{
  "nbformat": 4,
  "nbformat_minor": 0,
  "metadata": {
    "colab": {
      "provenance": [],
      "authorship_tag": "ABX9TyMdgAGCg/J5HNDdAl4H5QDq",
      "include_colab_link": true
    },
    "kernelspec": {
      "name": "python3",
      "display_name": "Python 3"
    },
    "language_info": {
      "name": "python"
    }
  },
  "cells": [
    {
      "cell_type": "markdown",
      "metadata": {
        "id": "view-in-github",
        "colab_type": "text"
      },
      "source": [
        "<a href=\"https://colab.research.google.com/github/ThisGuy245/AI-Tasks/blob/main/AI_Task_A2.ipynb\" target=\"_parent\"><img src=\"https://colab.research.google.com/assets/colab-badge.svg\" alt=\"Open In Colab\"/></a>"
      ]
    },
    {
      "cell_type": "code",
      "execution_count": null,
      "metadata": {
        "id": "c3A3YCNL5yZ8"
      },
      "outputs": [],
      "source": [
        "import torch\n",
        "import torch.nn as nn\n",
        "import torch.nn.functional as F\n",
        "import torch.optim as optim\n",
        "\n",
        "# Dont know what i'll need THIS IS JUST A SKELETON FOR TASK A2\n",
        "# Re-used code from TASK A1\n",
        "\n",
        "import numpy as np # need for arrays\n",
        "import matplotlib.pyplot as plt # need for visualisation\n",
        "import pandas as pd # i have no fucking clue\n",
        "\n",
        "# Have 2 inputs (Distance to Turn & Turn Severity)  -  Use Excel for input training data\n",
        "x = np.array([[]], dtype = np.float32)\n",
        "\n",
        "# We got 4 outputs, (Accelerate, Brake, Maintain Speed, PitStop)  -  Idek what to do here, 0,1,2,3\n",
        "y = np.array([[]], dtype = np.float32)\n",
        "\n",
        "x_tensor = torch.from_numpy(x, dtype=np.float32)\n",
        "y_tensor = torch.from_numpy(y, dtype=np.float32)\n",
        "\n",
        "# Now we make the Neural Network ig\n",
        "class Net(nn.Module):\n",
        "  def __init__(self):   # Activation function would go here ig? Maybe default to ReLu again\n",
        "    super(Net, self).__init__()\n",
        "    self.hidden = nn.Linear(2, 4)  # 2 inputs gotta go to 4 hidden layers ig? MAY NEED MORE LAYERS!!!!\n",
        "    self.output = nn.Linear(4, 4)  # 4 different outputs so this is simple\n",
        "\n",
        "  def forward(self, x):\n",
        "    x = F.relu(self.hidden(x))\n",
        "    x = self.output(x)\n",
        "    return x   # Regular ReLu function for now with regular output // THIS WILL CHANGE\n",
        "\n",
        "learning_rates = [0.01, 0.001, 0.0001] # This is so wrong for 1000 epochs, will change to higher drastic numebrs?\n",
        "\n",
        "\n",
        "for lr in learning_rates: # We testing some new shit here\n",
        "  model = Net() # calliong the nnmodel\n",
        "  criterion = nn.MSELoss() # we testing Modum Cross-Entropy Loss here\n",
        "  optimizer = optim.SGD(model.parameters(), lr=lr)\n",
        "\n",
        "  num_epochs = 1000               # 1000 foer now but aint NO WAY that this is enough, (looking for roughly 10,000 <- Game over bruh)\n",
        "  for epoch in range(num_epochs):\n",
        "    outputs = model(x_tensor)\n",
        "    loss = criterion(outputs, y_tensor)  # Figure\n",
        "    optimizer.zero_grad() # i love having NO gradients so basically my model wont do any learning\n",
        "    loss.backward()    # i love backpropagation\n",
        "\n",
        "  with torch.no_grad():  # Actually get some results may be useful??\n",
        "            predictions = model(x_tensor)\n",
        "            predictions = torch.round(predictions)\n",
        "            print(\"    Predictions:\", predictions.numpy())  # No predicitons for now but will make some BS up later\n",
        "            print(\"    Actual:     \", y_tensor.numpy()) # Actual is whether we fucking crash or not GG\n",
        "\n",
        "\n",
        "\n",
        "\n",
        "\n",
        "\n",
        "\n"
      ]
    }
  ]
}